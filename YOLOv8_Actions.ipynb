{
 "cells": [
  {
   "cell_type": "markdown",
   "metadata": {},
   "source": [
    "# Import Libraries"
   ]
  },
  {
   "cell_type": "code",
   "execution_count": 1,
   "metadata": {},
   "outputs": [],
   "source": [
    "from ultralytics import YOLO"
   ]
  },
  {
   "cell_type": "markdown",
   "metadata": {},
   "source": [
    "# Load Model"
   ]
  },
  {
   "cell_type": "code",
   "execution_count": 2,
   "metadata": {},
   "outputs": [],
   "source": [
    "model = YOLO(r\"c:\\Users\\Sakib Ahmed\\Desktop\\model_car_parts.pt\")"
   ]
  },
  {
   "cell_type": "markdown",
   "metadata": {},
   "source": [
    "# 1. Inference"
   ]
  },
  {
   "cell_type": "code",
   "execution_count": 7,
   "metadata": {},
   "outputs": [
    {
     "name": "stdout",
     "output_type": "stream",
     "text": [
      "\n",
      "    video 1/1 (frame 1/5) /Car.mp4: 384x640 (no detections), 75.7ms\n",
      "    video 1/1 (frame 2/5) /Car.mp4: 384x640 (no detections), 62.3ms\n",
      "    video 1/1 (frame 3/5) /Car.mp4: 384x640 (no detections), 40.3ms\n",
      "    video 1/1 (frame 4/5) /Car.mp4: 384x640 (no detections), 40.6ms\n",
      "    video 1/1 (frame 5/5) /Car.mp4: 384x640 (no detections), 40.0ms\n",
      "\n"
     ]
    }
   ],
   "source": [
    "# Use the model to detect object\n",
    "image = \"/kaggle/input/carvids/Car Dent_Cut.mp4\"\n",
    "result_predict_car_parts = model_car_parts.predict(source = image, imgsz=(640),vid_stride=1, \n",
    "                               show=True, save=True, show_labels=True, show_conf=True, \n",
    "                               show_boxes=True, retina_masks=True, conf=0.35, save_txt=False, \n",
    "                               save_crop=True, #line_width=1\n",
    ")"
   ]
  },
  {
   "cell_type": "markdown",
   "metadata": {},
   "source": [
    "# 2. Check labels from the model"
   ]
  },
  {
   "cell_type": "code",
   "execution_count": 3,
   "metadata": {},
   "outputs": [
    {
     "data": {
      "text/plain": [
       "{0: 'Alloy_Rim_Back_Leftside',\n",
       " 1: 'Alloy_Rim_Back_Rightside',\n",
       " 2: 'Alloy_Rim_Front_Leftside',\n",
       " 3: 'Alloy_Rim_Front_Rightside',\n",
       " 4: 'Antenna',\n",
       " 5: 'Back-Bumper',\n",
       " 6: 'Back-Logo',\n",
       " 7: 'Back-wheel-Leftside',\n",
       " 8: 'Back-wheel-Rightside',\n",
       " 9: 'Back-window-Left-Side',\n",
       " 10: 'Back-window-Right-Side',\n",
       " 11: 'Back-windshield',\n",
       " 12: 'Backdoor-Leftside',\n",
       " 13: 'Backdoor-Rightside',\n",
       " 14: 'Brake-Light',\n",
       " 15: 'Exterior-Door-Handle-Back-Leftside',\n",
       " 16: 'Exterior-Door-Handle-Back-Rightside',\n",
       " 17: 'Exterior-Door-Handle-Front-Leftside',\n",
       " 18: 'Exterior-Door-Handle-Front-Rightside',\n",
       " 19: 'Fender-Leftside',\n",
       " 20: 'Fender-Rightside',\n",
       " 21: 'Fog-Light_Back_Lefttside',\n",
       " 22: 'Fog-Light_Back_Rightside',\n",
       " 23: 'Fog-Light_Front_Leftside',\n",
       " 24: 'Fog-Light_Front_Rightside',\n",
       " 25: 'Front-Arch-panel-Leftside',\n",
       " 26: 'Front-Arch-panel-Rightside',\n",
       " 27: 'Front-Logo',\n",
       " 28: 'Front-wheel-Leftside',\n",
       " 29: 'Front-wheel-Rightside',\n",
       " 30: 'Front-window-Left-Side',\n",
       " 31: 'Front-window-Right-Side',\n",
       " 32: 'FrontBumper',\n",
       " 33: 'FrontSideBumper-Leftside',\n",
       " 34: 'FrontSideBumper-Rightside',\n",
       " 35: 'Frontdoor-Leftside',\n",
       " 36: 'Frontdoor-Rightside',\n",
       " 37: 'Fuel Cap',\n",
       " 38: 'Grille',\n",
       " 39: 'HeadLight-Lefttside',\n",
       " 40: 'HeadLight-Rightside',\n",
       " 41: 'Hood',\n",
       " 42: 'Indicator-Light-Leftside',\n",
       " 43: 'Indicator-Light-Rightside',\n",
       " 44: 'License-plate',\n",
       " 45: 'Molding-Leftside',\n",
       " 46: 'Molding-Rightside',\n",
       " 47: 'Quarter-Panel-Leftside',\n",
       " 48: 'Quarter-Panel-Rightside',\n",
       " 49: 'Quarter_Glass_Left_Side',\n",
       " 50: 'Quarter_Glass_Right_Side',\n",
       " 51: 'Rear-Arch-Panel-Leftside',\n",
       " 52: 'Rear-Arch-Panel-Rightside',\n",
       " 53: 'Rear-Wiper',\n",
       " 54: 'Rear_SideBumper_Lefttside',\n",
       " 55: 'Rear_SideBumper_Rightside',\n",
       " 56: 'Rocker-Panel',\n",
       " 57: 'Roof',\n",
       " 58: 'Roof-Rail',\n",
       " 59: 'Side-Rocker-Panel_Rightside',\n",
       " 60: 'Side-Rocker-Panel_leftside',\n",
       " 61: 'Sidemirror-Leftside',\n",
       " 62: 'Sidemirror-Rightside',\n",
       " 63: 'Tail-light-Leftside',\n",
       " 64: 'Tail-light-Rightside',\n",
       " 65: 'Trunk',\n",
       " 66: 'WindShield',\n",
       " 67: 'Windshield-Wiper',\n",
       " 68: 'spoiler'}"
      ]
     },
     "execution_count": 3,
     "metadata": {},
     "output_type": "execute_result"
    }
   ],
   "source": [
    "model.names"
   ]
  },
  {
   "cell_type": "markdown",
   "metadata": {},
   "source": [
    "# 3. Change Labels in YOLOv8"
   ]
  },
  {
   "cell_type": "code",
   "execution_count": 3,
   "metadata": {},
   "outputs": [
    {
     "data": {
      "text/plain": [
       "{0: 'Alloy_Rim_Back_Leftside',\n",
       " 1: 'Alloy_Rim_Back_Rightside',\n",
       " 2: 'Alloy_Rim_Front_Leftside',\n",
       " 3: 'Alloy_Rim_Front_Rightside',\n",
       " 4: 'Antenna',\n",
       " 5: 'Back-Bumper',\n",
       " 6: 'Back-Logo',\n",
       " 7: 'Back-wheel-Leftside',\n",
       " 8: 'Back-wheel-Rightside',\n",
       " 9: 'Back-window-Left-Side',\n",
       " 10: 'Back-window-Right-Side',\n",
       " 11: 'Back-windshield',\n",
       " 12: 'Backdoor-Leftside',\n",
       " 13: 'Backdoor-Rightside',\n",
       " 14: 'Brake-Light',\n",
       " 15: 'Exterior-Door-Handle-Back-Leftside',\n",
       " 16: 'Exterior-Door-Handle-Back-Rightside',\n",
       " 17: 'Exterior-Door-Handle-Front-Leftside',\n",
       " 18: 'Exterior-Door-Handle-Front-Rightside',\n",
       " 19: 'Fender-Leftside',\n",
       " 20: 'Fender-Rightside',\n",
       " 21: 'Fog-Light_Back_Lefttside',\n",
       " 22: 'Fog-Light_Back_Rightside',\n",
       " 23: 'Fog-Light_Front_Leftside',\n",
       " 24: 'Fog-Light_Front_Rightside',\n",
       " 25: 'Front-Arch-panel-Leftside',\n",
       " 26: 'Front-Arch-panel-Rightside',\n",
       " 27: 'Front-Logo',\n",
       " 28: 'Front-wheel-Leftside',\n",
       " 29: 'Front-wheel-Rightside',\n",
       " 30: 'Front-window-Left-Side',\n",
       " 31: 'Front-window-Right-Side',\n",
       " 32: 'FrontBumper',\n",
       " 33: 'FrontSideBumper-Leftside',\n",
       " 34: 'FrontSideBumper-Rightside',\n",
       " 35: 'Frontdoor-Leftside',\n",
       " 36: 'Frontdoor-Rightside',\n",
       " 37: 'Fuel Cap',\n",
       " 38: 'Grille',\n",
       " 39: 'HeadLight-Lefttside',\n",
       " 40: 'HeadLight-Rightside',\n",
       " 41: 'Hood',\n",
       " 42: 'Indicator-Light-Leftside',\n",
       " 43: 'Indicator-Light-Rightside',\n",
       " 44: 'License-plate',\n",
       " 45: 'Molding-Leftside',\n",
       " 46: 'Molding-Rightside',\n",
       " 47: 'Quarter-Panel-Leftside',\n",
       " 48: 'Quarter-Panel-Rightside',\n",
       " 49: 'Quarter_Glass_Left_Side',\n",
       " 50: 'Quarter_Glass_Right_Side',\n",
       " 51: 'Rear-Arch-Panel-Leftside',\n",
       " 52: 'Rear-Arch-Panel-Rightside',\n",
       " 53: 'Rear-Wiper',\n",
       " 54: 'Rear_SideBumper_Lefttside',\n",
       " 55: 'Rear_SideBumper_Rightside',\n",
       " 56: 'Rocker-Panel',\n",
       " 57: 'Roof',\n",
       " 58: 'Roof-Rail',\n",
       " 59: 'Side-Rocker-Panel_Rightside',\n",
       " 60: 'Side-Rocker-Panel_leftside',\n",
       " 61: 'Sidemirror-Leftside',\n",
       " 62: 'Sidemirror-Rightside',\n",
       " 63: 'Tail-light-Leftside',\n",
       " 64: 'Tail-light-Rightside',\n",
       " 65: 'Trunk',\n",
       " 66: 'WindShield',\n",
       " 67: 'Windshield-Wiper',\n",
       " 68: 'spoiler'}"
      ]
     },
     "execution_count": 3,
     "metadata": {},
     "output_type": "execute_result"
    }
   ],
   "source": [
    "import torch\n",
    "\n",
    "model = torch.load(r\"c:\\Users\\Sakib Ahmed\\Desktop\\model_car_parts.pt\", map_location=\"cpu\")\n",
    "\n",
    "model[\"model\"].names"
   ]
  },
  {
   "cell_type": "code",
   "execution_count": 4,
   "metadata": {},
   "outputs": [],
   "source": [
    "# Dictionary mapping old class names to new class names\n",
    "car_parts_class_mapping = {\n",
    "    0: 'Alloy Rim Back Left Side',\n",
    "    1: 'Alloy Rim Back Right Side',\n",
    "    2: 'Alloy Rim Front Left Side',\n",
    "    3: 'Alloy Rim Front Right Side',\n",
    "    4: 'Antenna',\n",
    "    5: 'Back Bumper',\n",
    "    6: 'Back Logo',\n",
    "    7: 'Back Wheel Left Side',\n",
    "    8: 'Back Wheel Right Side',\n",
    "    9: 'Back Window Left Side',\n",
    "    10: 'Back Window Right Side',\n",
    "    11: 'Back Windshield',\n",
    "    12: 'Backdoor Left Side',\n",
    "    13: 'Backdoor Right Side',\n",
    "    14: 'Brake Light',\n",
    "    15: 'Exterior Door Handle Back Left Side',\n",
    "    16: 'Exterior Door Handle Back Right Side',\n",
    "    17: 'Exterior Door Handle Front Left Side',\n",
    "    18: 'Exterior Door Handle Front Right Side',\n",
    "    19: 'Fender Left Side',\n",
    "    20: 'Fender Right Side',\n",
    "    21: 'Fog Light Back Left Side',\n",
    "    22: 'Fog Light Back Right Side',\n",
    "    23: 'Fog Light Front Left Side',\n",
    "    24: 'Fog Light Front Right Side',\n",
    "    25: 'Front Arch Panel Left Side',\n",
    "    26: 'Front Arch Panel Right Side',\n",
    "    27: 'Front Logo',\n",
    "    28: 'Front Wheel Left Side',\n",
    "    29: 'Front Wheel Right Side',\n",
    "    30: 'Front Window Left Side',\n",
    "    31: 'Front Window Right Side',\n",
    "    32: 'Front Bumper',\n",
    "    33: 'Front Side Bumper Left Side',\n",
    "    34: 'Front Side Bumper Right Side',\n",
    "    35: 'Front Door Left Side',\n",
    "    36: 'Front Door Right Side',\n",
    "    37: 'Fuel Cap',\n",
    "    38: 'Grille',\n",
    "    39: 'Head Light Left Side',\n",
    "    40: 'Head Light Right Side',\n",
    "    41: 'Hood',\n",
    "    42: 'Indicator Light Left Side',\n",
    "    43: 'Indicator Light Right Side',\n",
    "    44: 'License Plate',\n",
    "    45: 'Molding Left Side',\n",
    "    46: 'Molding Right Side',\n",
    "    47: 'Quarter Panel Left Side',\n",
    "    48: 'Quarter Panel Right Side',\n",
    "    49: 'Quarter Glass Left Side',\n",
    "    50: 'Quarter Glass Right Side',\n",
    "    51: 'Rear Arch Panel Left Side',\n",
    "    52: 'Rear Arch Panel Right Side',\n",
    "    53: 'Rear Wiper',\n",
    "    54: 'Rear Side Bumper Left Side',\n",
    "    55: 'Rear Side Bumper Right Side',\n",
    "    56: 'Rocker Panel',\n",
    "    57: 'Roof',\n",
    "    58: 'Roof Rail',\n",
    "    59: 'Side Rocker Panel Right Side',\n",
    "    60: 'Side Rocker Panel Left Side',\n",
    "    61: 'Side Mirror Left Side',\n",
    "    62: 'Side Mirror Right Side',\n",
    "    63: 'Tail Light Left Side',\n",
    "    64: 'Tail Light Right Side',\n",
    "    65: 'Trunk',\n",
    "    66: 'Wind Shield',\n",
    "    67: 'Windshield Wiper',\n",
    "    68: 'Spoiler'\n",
    "}\n",
    "\n",
    "model[\"model\"].names = car_parts_class_mapping"
   ]
  },
  {
   "cell_type": "code",
   "execution_count": 5,
   "metadata": {},
   "outputs": [
    {
     "data": {
      "text/plain": [
       "{0: 'Alloy Rim Back Left Side',\n",
       " 1: 'Alloy Rim Back Right Side',\n",
       " 2: 'Alloy Rim Front Left Side',\n",
       " 3: 'Alloy Rim Front Right Side',\n",
       " 4: 'Antenna',\n",
       " 5: 'Back Bumper',\n",
       " 6: 'Back Logo',\n",
       " 7: 'Back Wheel Left Side',\n",
       " 8: 'Back Wheel Right Side',\n",
       " 9: 'Back Window Left Side',\n",
       " 10: 'Back Window Right Side',\n",
       " 11: 'Back Windshield',\n",
       " 12: 'Backdoor Left Side',\n",
       " 13: 'Backdoor Right Side',\n",
       " 14: 'Brake Light',\n",
       " 15: 'Exterior Door Handle Back Left Side',\n",
       " 16: 'Exterior Door Handle Back Right Side',\n",
       " 17: 'Exterior Door Handle Front Left Side',\n",
       " 18: 'Exterior Door Handle Front Right Side',\n",
       " 19: 'Fender Left Side',\n",
       " 20: 'Fender Right Side',\n",
       " 21: 'Fog Light Back Left Side',\n",
       " 22: 'Fog Light Back Right Side',\n",
       " 23: 'Fog Light Front Left Side',\n",
       " 24: 'Fog Light Front Right Side',\n",
       " 25: 'Front Arch Panel Left Side',\n",
       " 26: 'Front Arch Panel Right Side',\n",
       " 27: 'Front Logo',\n",
       " 28: 'Front Wheel Left Side',\n",
       " 29: 'Front Wheel Right Side',\n",
       " 30: 'Front Window Left Side',\n",
       " 31: 'Front Window Right Side',\n",
       " 32: 'Front Bumper',\n",
       " 33: 'Front Side Bumper Left Side',\n",
       " 34: 'Front Side Bumper Right Side',\n",
       " 35: 'Front Door Left Side',\n",
       " 36: 'Front Door Right Side',\n",
       " 37: 'Fuel Cap',\n",
       " 38: 'Grille',\n",
       " 39: 'Head Light Left Side',\n",
       " 40: 'Head Light Right Side',\n",
       " 41: 'Hood',\n",
       " 42: 'Indicator Light Left Side',\n",
       " 43: 'Indicator Light Right Side',\n",
       " 44: 'License Plate',\n",
       " 45: 'Molding Left Side',\n",
       " 46: 'Molding Right Side',\n",
       " 47: 'Quarter Panel Left Side',\n",
       " 48: 'Quarter Panel Right Side',\n",
       " 49: 'Quarter Glass Left Side',\n",
       " 50: 'Quarter Glass Right Side',\n",
       " 51: 'Rear Arch Panel Left Side',\n",
       " 52: 'Rear Arch Panel Right Side',\n",
       " 53: 'Rear Wiper',\n",
       " 54: 'Rear Side Bumper Left Side',\n",
       " 55: 'Rear Side Bumper Right Side',\n",
       " 56: 'Rocker Panel',\n",
       " 57: 'Roof',\n",
       " 58: 'Roof Rail',\n",
       " 59: 'Side Rocker Panel Right Side',\n",
       " 60: 'Side Rocker Panel Left Side',\n",
       " 61: 'Side Mirror Left Side',\n",
       " 62: 'Side Mirror Right Side',\n",
       " 63: 'Tail Light Left Side',\n",
       " 64: 'Tail Light Right Side',\n",
       " 65: 'Trunk',\n",
       " 66: 'Wind Shield',\n",
       " 67: 'Windshield Wiper',\n",
       " 68: 'Spoiler'}"
      ]
     },
     "execution_count": 5,
     "metadata": {},
     "output_type": "execute_result"
    }
   ],
   "source": [
    "model[\"model\"].names"
   ]
  },
  {
   "cell_type": "markdown",
   "metadata": {},
   "source": [
    "# 4. Save the revised model"
   ]
  },
  {
   "cell_type": "code",
   "execution_count": 6,
   "metadata": {},
   "outputs": [],
   "source": [
    "torch.save(model, \"model_car_parts.pt\")"
   ]
  }
 ],
 "metadata": {
  "kernelspec": {
   "display_name": "Python 3",
   "language": "python",
   "name": "python3"
  },
  "language_info": {
   "codemirror_mode": {
    "name": "ipython",
    "version": 3
   },
   "file_extension": ".py",
   "mimetype": "text/x-python",
   "name": "python",
   "nbconvert_exporter": "python",
   "pygments_lexer": "ipython3",
   "version": "3.12.6"
  }
 },
 "nbformat": 4,
 "nbformat_minor": 2
}
