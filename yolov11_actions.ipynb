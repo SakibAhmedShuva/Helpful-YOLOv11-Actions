{
 "cells": [
  {
   "cell_type": "markdown",
   "metadata": {},
   "source": [
    "# Install required packages"
   ]
  },
  {
   "cell_type": "code",
   "execution_count": null,
   "metadata": {
    "collapsed": true,
    "execution": {
     "iopub.execute_input": "2024-10-03T14:12:48.167909Z",
     "iopub.status.busy": "2024-10-03T14:12:48.167600Z",
     "iopub.status.idle": "2024-10-03T14:13:28.610643Z",
     "shell.execute_reply": "2024-10-03T14:13:28.609524Z",
     "shell.execute_reply.started": "2024-10-03T14:12:48.167877Z"
    },
    "jupyter": {
     "outputs_hidden": true
    },
    "trusted": true
   },
   "outputs": [],
   "source": [
    "!pip install ultralytics\n",
    "!pip install roboflow\n",
    "!pip install -U ipywidgets"
   ]
  },
  {
   "cell_type": "markdown",
   "metadata": {},
   "source": [
    "# Disable Weights & Biases logging"
   ]
  },
  {
   "cell_type": "code",
   "execution_count": null,
   "metadata": {
    "execution": {
     "iopub.execute_input": "2024-10-03T14:13:28.613371Z",
     "iopub.status.busy": "2024-10-03T14:13:28.612950Z",
     "iopub.status.idle": "2024-10-03T14:13:28.618099Z",
     "shell.execute_reply": "2024-10-03T14:13:28.617130Z",
     "shell.execute_reply.started": "2024-10-03T14:13:28.613327Z"
    },
    "trusted": true
   },
   "outputs": [],
   "source": [
    "import os\n",
    "os.environ['WANDB_MODE'] = 'disabled'"
   ]
  },
  {
   "cell_type": "markdown",
   "metadata": {},
   "source": [
    "# Import Libraries"
   ]
  },
  {
   "cell_type": "code",
   "execution_count": null,
   "metadata": {
    "execution": {
     "iopub.execute_input": "2024-10-03T14:13:28.641795Z",
     "iopub.status.busy": "2024-10-03T14:13:28.641415Z",
     "iopub.status.idle": "2024-10-03T14:13:34.925856Z",
     "shell.execute_reply": "2024-10-03T14:13:34.924959Z",
     "shell.execute_reply.started": "2024-10-03T14:13:28.641753Z"
    },
    "trusted": true
   },
   "outputs": [],
   "source": [
    "from ultralytics import YOLO"
   ]
  },
  {
   "cell_type": "markdown",
   "metadata": {},
   "source": [
    "# Load Data"
   ]
  },
  {
   "cell_type": "code",
   "execution_count": null,
   "metadata": {
    "execution": {
     "iopub.execute_input": "2024-10-03T14:13:34.928248Z",
     "iopub.status.busy": "2024-10-03T14:13:34.927419Z",
     "iopub.status.idle": "2024-10-03T14:13:38.224710Z",
     "shell.execute_reply": "2024-10-03T14:13:38.223731Z",
     "shell.execute_reply.started": "2024-10-03T14:13:34.928201Z"
    },
    "trusted": true
   },
   "outputs": [],
   "source": [
    "from roboflow import Roboflow\n",
    "rf = Roboflow(api_key=\"xTo8OzKt3gqUQENvd7gp\")\n",
    "project = rf.workspace(\"damage-sverity\").project(\"flowers-krbsa\")\n",
    "version = project.version(2)\n",
    "dataset = version.download(\"yolov11\")"
   ]
  },
  {
   "cell_type": "markdown",
   "metadata": {},
   "source": [
    "# Load Model"
   ]
  },
  {
   "cell_type": "code",
   "execution_count": null,
   "metadata": {},
   "outputs": [],
   "source": [
    "model = YOLO(\"yolo11x-seg.pt\")"
   ]
  },
  {
   "cell_type": "markdown",
   "metadata": {},
   "source": [
    "# Training on GPU (Option 01)"
   ]
  },
  {
   "cell_type": "code",
   "execution_count": null,
   "metadata": {
    "execution": {
     "iopub.execute_input": "2024-10-03T14:16:53.076037Z",
     "iopub.status.busy": "2024-10-03T14:16:53.075028Z",
     "iopub.status.idle": "2024-10-03T14:16:57.108164Z",
     "shell.execute_reply": "2024-10-03T14:16:57.106761Z",
     "shell.execute_reply.started": "2024-10-03T14:16:53.075971Z"
    },
    "trusted": true
   },
   "outputs": [],
   "source": [
    "# Train the model\n",
    "train_results = model.train(\n",
    "    data=\"/kaggle/working/Flowers-2/data.yaml\",  # path to dataset YAML\n",
    "    epochs=600,  # number of training epochs\n",
    "    imgsz=640,  # training image size\n",
    "    device=0,\n",
    "    batch=4,\n",
    "    workers=4,\n",
    "    seed=101,\n",
    "    \n",
    "    # device to run on, i.e. device=0 or device=0,1,2,3 or device=cpu\n",
    ")"
   ]
  },
  {
   "cell_type": "markdown",
   "metadata": {},
   "source": [
    "# Training on GPU (Option 02)"
   ]
  },
  {
   "cell_type": "code",
   "execution_count": null,
   "metadata": {},
   "outputs": [],
   "source": [
    "!yolo segment train model=yolo11x-seg.pt data='/data/data_modified.yaml' workers=8 batch=8 epochs=300 seed=101 device=0 save_period=40 #patience=600 #name=yolov8_car_damage_296_Classes"
   ]
  },
  {
   "cell_type": "markdown",
   "metadata": {},
   "source": [
    "# Resume training from a checkpoint"
   ]
  },
  {
   "cell_type": "code",
   "execution_count": null,
   "metadata": {},
   "outputs": [],
   "source": [
    "!yolo segment train model=weights/best.pt data='/data/data_modified.yaml' resume=True workers=8 batch=8 epochs=600 seed=101 device=0 save_period=40 #patience=600 #name=yolov8_car_damage_296_Classes"
   ]
  },
  {
   "cell_type": "markdown",
   "metadata": {},
   "source": [
    "# Export the trained model"
   ]
  },
  {
   "cell_type": "code",
   "execution_count": null,
   "metadata": {},
   "outputs": [],
   "source": [
    "# Export the model to ONNX format\n",
    "path = model.export(format=\"onnx\")  # return path to exported model"
   ]
  },
  {
   "cell_type": "markdown",
   "metadata": {},
   "source": [
    "# Evaluate model performance on the validation set"
   ]
  },
  {
   "cell_type": "code",
   "execution_count": null,
   "metadata": {},
   "outputs": [],
   "source": [
    "metrics = model.val()"
   ]
  },
  {
   "cell_type": "markdown",
   "metadata": {},
   "source": [
    "# Inference (Option 01)"
   ]
  },
  {
   "cell_type": "code",
   "execution_count": null,
   "metadata": {},
   "outputs": [],
   "source": [
    "image = \"/input/53106caea9490a.jpg\"\n",
    "results = model.predict(\n",
    "    source=image, imgsz=640, vid_stride=1, \n",
    "    show=True, save=True, show_labels=True, show_conf=True, \n",
    "    show_boxes=True, retina_masks=True, conf=0.35, save_txt=False, \n",
    "    save_crop=True\n",
    "    # line_width=1\n",
    ")\n",
    "results[0].show()\n"
   ]
  },
  {
   "cell_type": "markdown",
   "metadata": {},
   "source": [
    "# Inference (Option 02)"
   ]
  },
  {
   "cell_type": "code",
   "execution_count": null,
   "metadata": {},
   "outputs": [],
   "source": [
    "!yolo predict model=yolo11x-seg.pt \\\n",
    "  source='/images/IMG_3190a.jpg' \\\n",
    "  imgsz=640 \\\n",
    "  vid_stride=1 \\\n",
    "  show=True \\\n",
    "  save=True \\\n",
    "  show_labels=True \\\n",
    "  show_conf=True \\\n",
    "  show_boxes=True \\\n",
    "  retina_masks=True \\\n",
    "  conf=0.35 \\\n",
    "  save_txt=False \\\n",
    "  save_crop=True \\\n",
    "  line_width=1\n"
   ]
  },
  {
   "cell_type": "markdown",
   "metadata": {},
   "source": [
    "# Display the existing class names in the model"
   ]
  },
  {
   "cell_type": "code",
   "execution_count": null,
   "metadata": {},
   "outputs": [],
   "source": [
    "model.names"
   ]
  },
  {
   "cell_type": "markdown",
   "metadata": {},
   "source": [
    "# Change Labels"
   ]
  },
  {
   "cell_type": "code",
   "execution_count": null,
   "metadata": {},
   "outputs": [],
   "source": [
    "import torch\n",
    "\n",
    "model = torch.load(r\"c:\\Users\\Sakib Ahmed\\Desktop\\model_car_parts.pt\", map_location=\"cpu\")\n",
    "\n",
    "model[\"model\"].names"
   ]
  },
  {
   "cell_type": "code",
   "execution_count": null,
   "metadata": {},
   "outputs": [],
   "source": [
    "# Dictionary mapping old class names to new class names\n",
    "car_parts_class_mapping = {\n",
    "    0: 'Alloy Rim Back Left Side',\n",
    "    1: 'Alloy Rim Back Right Side',\n",
    "    2: 'Alloy Rim Front Left Side',\n",
    "    3: 'Alloy Rim Front Right Side',\n",
    "    4: 'Antenna',\n",
    "    5: 'Back Bumper',\n",
    "    6: 'Back Logo',\n",
    "    7: 'Back Wheel Left Side',\n",
    "    8: 'Back Wheel Right Side',\n",
    "    9: 'Back Window Left Side',\n",
    "    10: 'Back Window Right Side',\n",
    "    11: 'Back Windshield',\n",
    "    12: 'Backdoor Left Side',\n",
    "    13: 'Backdoor Right Side',\n",
    "    14: 'Brake Light',\n",
    "    15: 'Exterior Door Handle Back Left Side',\n",
    "    16: 'Exterior Door Handle Back Right Side',\n",
    "    17: 'Exterior Door Handle Front Left Side',\n",
    "    18: 'Exterior Door Handle Front Right Side',\n",
    "    19: 'Fender Left Side',\n",
    "    20: 'Fender Right Side',\n",
    "    21: 'Fog Light Back Left Side',\n",
    "    22: 'Fog Light Back Right Side',\n",
    "    23: 'Fog Light Front Left Side',\n",
    "    24: 'Fog Light Front Right Side',\n",
    "    25: 'Front Arch Panel Left Side',\n",
    "    26: 'Front Arch Panel Right Side',\n",
    "    27: 'Front Logo',\n",
    "    28: 'Front Wheel Left Side',\n",
    "    29: 'Front Wheel Right Side',\n",
    "    30: 'Front Window Left Side',\n",
    "    31: 'Front Window Right Side',\n",
    "    32: 'Front Bumper',\n",
    "    33: 'Front Side Bumper Left Side',\n",
    "    34: 'Front Side Bumper Right Side',\n",
    "    35: 'Front Door Left Side',\n",
    "    36: 'Front Door Right Side',\n",
    "    37: 'Fuel Cap',\n",
    "    38: 'Grille',\n",
    "    39: 'Head Light Left Side',\n",
    "    40: 'Head Light Right Side',\n",
    "    41: 'Hood',\n",
    "    42: 'Indicator Light Left Side',\n",
    "    43: 'Indicator Light Right Side',\n",
    "    44: 'License Plate',\n",
    "    45: 'Molding Left Side',\n",
    "    46: 'Molding Right Side',\n",
    "    47: 'Quarter Panel Left Side',\n",
    "    48: 'Quarter Panel Right Side',\n",
    "    49: 'Quarter Glass Left Side',\n",
    "    50: 'Quarter Glass Right Side',\n",
    "    51: 'Rear Arch Panel Left Side',\n",
    "    52: 'Rear Arch Panel Right Side',\n",
    "    53: 'Rear Wiper',\n",
    "    54: 'Rear Side Bumper Left Side',\n",
    "    55: 'Rear Side Bumper Right Side',\n",
    "    56: 'Rocker Panel',\n",
    "    57: 'Roof',\n",
    "    58: 'Roof Rail',\n",
    "    59: 'Side Rocker Panel Right Side',\n",
    "    60: 'Side Rocker Panel Left Side',\n",
    "    61: 'Side Mirror Left Side',\n",
    "    62: 'Side Mirror Right Side',\n",
    "    63: 'Tail Light Left Side',\n",
    "    64: 'Tail Light Right Side',\n",
    "    65: 'Trunk',\n",
    "    66: 'Wind Shield',\n",
    "    67: 'Windshield Wiper',\n",
    "    68: 'Spoiler'\n",
    "}\n",
    "\n",
    "# Update the model with new class names\n",
    "model[\"model\"].names = car_parts_class_mapping"
   ]
  },
  {
   "cell_type": "markdown",
   "metadata": {},
   "source": [
    "# Check the updated class names"
   ]
  },
  {
   "cell_type": "code",
   "execution_count": null,
   "metadata": {},
   "outputs": [],
   "source": [
    "model[\"model\"].names"
   ]
  },
  {
   "cell_type": "markdown",
   "metadata": {},
   "source": [
    "# Save the model with updated class names"
   ]
  },
  {
   "cell_type": "code",
   "execution_count": null,
   "metadata": {},
   "outputs": [],
   "source": [
    "torch.save(model, \"model_car_parts.pt\")"
   ]
  }
 ],
 "metadata": {
  "kaggle": {
   "accelerator": "none",
   "dataSources": [],
   "dockerImageVersionId": 30776,
   "isGpuEnabled": false,
   "isInternetEnabled": true,
   "language": "python",
   "sourceType": "notebook"
  },
  "kernelspec": {
   "display_name": "Python 3",
   "language": "python",
   "name": "python3"
  },
  "language_info": {
   "codemirror_mode": {
    "name": "ipython",
    "version": 3
   },
   "file_extension": ".py",
   "mimetype": "text/x-python",
   "name": "python",
   "nbconvert_exporter": "python",
   "pygments_lexer": "ipython3",
   "version": "3.10.14"
  }
 },
 "nbformat": 4,
 "nbformat_minor": 4
}
